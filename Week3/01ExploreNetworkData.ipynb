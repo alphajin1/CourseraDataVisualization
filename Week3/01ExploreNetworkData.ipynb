{
 "cells": [
  {
   "cell_type": "markdown",
   "metadata": {},
   "source": [
    "# dataset\n",
    "- [email-Eu-core](\"http://snap.stanford.edu/data/email-Eu-core.html\")"
   ]
  },
  {
   "cell_type": "code",
   "execution_count": 2,
   "metadata": {},
   "outputs": [],
   "source": [
    "from pyvis.network import Network"
   ]
  },
  {
   "cell_type": "code",
   "execution_count": 9,
   "metadata": {},
   "outputs": [],
   "source": [
    "import gzip\n",
    "\n",
    "vertices = set()\n",
    "edges = []\n",
    "with gzip.open('email-Eu-core.txt.gz','rt') as f:\n",
    "    for i, line in enumerate(f):\n",
    "        if i < 4:\n",
    "            continue\n",
    "        a, b = map(int, line.split())\n",
    "        vertices.add(a)\n",
    "        vertices.add(b)\n",
    "        edges.append([a, b])\n"
   ]
  },
  {
   "cell_type": "code",
   "execution_count": 10,
   "metadata": {
    "collapsed": false,
    "jupyter": {
     "outputs_hidden": false
    },
    "pycharm": {
     "name": "#%%\n"
    }
   },
   "outputs": [
    {
     "data": {
      "text/plain": [
       "([[5, 7], [8, 9], [10, 11]], 1005)"
      ]
     },
     "execution_count": 10,
     "metadata": {},
     "output_type": "execute_result"
    }
   ],
   "source": [
    "edges[:3], len(vertices)"
   ]
  },
  {
   "cell_type": "code",
   "execution_count": 30,
   "metadata": {
    "collapsed": false,
    "jupyter": {
     "outputs_hidden": false
    },
    "pycharm": {
     "name": "#%%\n"
    }
   },
   "outputs": [],
   "source": [
    "recent_id = -1\n",
    "departments = {}\n",
    "with gzip.open('email-Eu-core-department-labels.txt.gz','r') as f:\n",
    "    for i, line in enumerate(f):\n",
    "        line_str = line.decode('utf-8').strip()\n",
    "        a, b = map(int, line_str.split())\n",
    "        departments[a] = b"
   ]
  },
  {
   "cell_type": "code",
   "execution_count": 44,
   "metadata": {},
   "outputs": [],
   "source": [
    "from pyvis.network import Network\n",
    "import networkx as nx\n",
    "\n",
    "G = nx.Graph()"
   ]
  },
  {
   "cell_type": "code",
   "execution_count": 45,
   "metadata": {},
   "outputs": [
    {
     "name": "stdout",
     "output_type": "stream",
     "text": [
      "Doing...  0\n",
      "Doing...  1000\n"
     ]
    }
   ],
   "source": [
    "for i, vertex in enumerate(vertices):\n",
    "    if i % 1000 == 0:\n",
    "        print(\"Doing... \", i)\n",
    "    \n",
    "    group_id = departments.get(vertex, -1)\n",
    "    G.add_node(vertex, title=str(group_id), group=group_id)"
   ]
  },
  {
   "cell_type": "code",
   "execution_count": 46,
   "metadata": {},
   "outputs": [],
   "source": [
    "for i, edge in enumerate(edges):\n",
    "    a, b = edge[0], edge[1]\n",
    "    G.add_edge(a, b)"
   ]
  },
  {
   "cell_type": "code",
   "execution_count": 47,
   "metadata": {
    "collapsed": false,
    "jupyter": {
     "outputs_hidden": false
    },
    "pycharm": {
     "name": "#%%\n"
    }
   },
   "outputs": [],
   "source": [
    "nt = Network(\"500px\", \"500px\")\n",
    "nt.from_nx(G)\n",
    "nt.show(\"CoPurchaseItems.html\")"
   ]
  },
  {
   "cell_type": "code",
   "execution_count": null,
   "metadata": {},
   "outputs": [],
   "source": []
  }
 ],
 "metadata": {
  "kernelspec": {
   "display_name": "Python 3",
   "language": "python",
   "name": "python3"
  },
  "language_info": {
   "codemirror_mode": {
    "name": "ipython",
    "version": 3
   },
   "file_extension": ".py",
   "mimetype": "text/x-python",
   "name": "python",
   "nbconvert_exporter": "python",
   "pygments_lexer": "ipython3",
   "version": "3.7.5"
  }
 },
 "nbformat": 4,
 "nbformat_minor": 4
}
